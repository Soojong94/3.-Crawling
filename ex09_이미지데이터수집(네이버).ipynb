{
 "cells": [
  {
   "cell_type": "markdown",
   "metadata": {},
   "source": [
    "- 네이버메인 페이지에서 수집하고 싶은 이미지를 검색 후 이미지 탭에 있는 이미지 수집"
   ]
  },
  {
   "cell_type": "code",
   "execution_count": 6,
   "metadata": {},
   "outputs": [],
   "source": [
    "# 라이브러리 불러오기\n",
    "from selenium import webdriver as wb\n",
    "from selenium.webdriver.common.keys import Keys\n",
    "from selenium.webdriver.common.by import By\n",
    "import time\n",
    "from tqdm import tqdm\n",
    "\n",
    "from urllib.request import urlretrieve\n",
    "\n",
    "import os # Operating System"
   ]
  },
  {
   "cell_type": "code",
   "execution_count": 39,
   "metadata": {},
   "outputs": [
    {
     "name": "stdout",
     "output_type": "stream",
     "text": [
      "폴더생성\n"
     ]
    }
   ],
   "source": [
    "# 만약에 폴더명이 없다면 생성해주고\n",
    "if not os.path.isdir(\"C:\\\\Users\\\\smhrd\\\\Desktop\\\\데스크테리어\") :\n",
    "    print(\"폴더생성\")\n",
    "    \n",
    "    # 주의사항! 경로는 본인 컴퓨터의 경로로 변경!!\n",
    "    os.mkdir(\"C:\\\\Users\\\\smhrd\\\\Desktop\\\\데스크테리어\")\n",
    "\n",
    "\n",
    "\n",
    "# 그렇지 않으면 (폴더명이 있음) 이미 존재하는 폴더입니다 라고 출력\n",
    "else:\n",
    "    print(\"이미 존재하는 폴더입니다\")"
   ]
  },
  {
   "cell_type": "code",
   "execution_count": 45,
   "metadata": {},
   "outputs": [],
   "source": [
    "# 네이버 메인 페이지 열기\n",
    "driver = wb.Chrome()\n",
    "# 키워드 검색\n",
    "driver.get('https://www.naver.com/')\n",
    "\n",
    "# 브라우저 최대화 (이미지를 다 못 가져오는 경우가 생기기 때문에 먼저 해야함)\n",
    "driver.maximize_window()\n",
    "\n",
    "search = driver.find_element(By.ID,'query')\n",
    "keyword = input ('키워드 입력:')\n",
    "search.send_keys(keyword)\n",
    "search.send_keys(Keys.ENTER)"
   ]
  },
  {
   "cell_type": "code",
   "execution_count": 43,
   "metadata": {},
   "outputs": [],
   "source": []
  },
  {
   "cell_type": "code",
   "execution_count": 47,
   "metadata": {},
   "outputs": [],
   "source": [
    "# 이미지 탭으로 이동\n",
    "img = driver.find_element(By.CSS_SELECTOR, '#lnb > div.lnb_group > div > div.lnb_nav_area._nav_area_root > div > div.api_flicking_wrap._conveyer_root > div:nth-child(1) > a')\n",
    "img.click()"
   ]
  },
  {
   "cell_type": "code",
   "execution_count": 29,
   "metadata": {},
   "outputs": [
    {
     "data": {
      "text/plain": [
       "'https://search.pstatic.net/common/?src=http%3A%2F%2Fblogfiles.naver.net%2FMjAyMzA4MTlfMjEx%2FMDAxNjkyNDIyMzYyNTM2.is-oJGrrXpUqxBDi-sd3J2J2ZoR-jDKER6gAqVGmToYg.cPU2HIk2CyIgNdH7t1rViZoDerEw7jdlmVetsvQBRzwg.JPEG.kimsun866870%2FNEWGLS_KMNNN_030.jpg&type=a340'"
      ]
     },
     "execution_count": 29,
     "metadata": {},
     "output_type": "execute_result"
    }
   ],
   "source": [
    "img[0].get_attribute('src')"
   ]
  },
  {
   "cell_type": "code",
   "execution_count": 36,
   "metadata": {},
   "outputs": [
    {
     "name": "stderr",
     "output_type": "stream",
     "text": [
      "100%|██████████| 5/5 [00:07<00:00,  1.45s/it]\n"
     ]
    }
   ],
   "source": [
    "# 자동 스크롤\n",
    "for i in tqdm(range(5)) :\n",
    "    body = driver.find_element(By.CSS_SELECTOR, 'body')\n",
    "    body.send_keys(Keys.END)\n",
    "    time.sleep(1)"
   ]
  },
  {
   "cell_type": "code",
   "execution_count": 37,
   "metadata": {},
   "outputs": [],
   "source": [
    "# 이미지 태그 수집\n",
    "# 순수한 src 데이터만 추출하여 이미지 파일로 저장\n",
    "img  = driver.find_elements(By.CLASS_NAME, '_fe_image_tab_content_thumbnail_image')"
   ]
  },
  {
   "cell_type": "code",
   "execution_count": 40,
   "metadata": {},
   "outputs": [
    {
     "name": "stderr",
     "output_type": "stream",
     "text": [
      "100%|██████████| 288/288 [01:24<00:00,  3.41it/s]\n"
     ]
    }
   ],
   "source": [
    "for i in tqdm(range(len(img))) : \n",
    "    urlretrieve(img[i].get_attribute('src'),\n",
    "    f'C:\\\\Users\\\\smhrd\\\\Desktop\\\\데스크테리어\\\\데스크테리어{i+1}.jpg')"
   ]
  },
  {
   "cell_type": "code",
   "execution_count": 49,
   "metadata": {},
   "outputs": [
    {
     "name": "stdout",
     "output_type": "stream",
     "text": [
      "이미 존재하는 폴더입니다\n"
     ]
    },
    {
     "name": "stderr",
     "output_type": "stream",
     "text": [
      "100%|██████████| 3/3 [00:05<00:00,  1.72s/it]\n",
      "100%|██████████| 192/192 [00:53<00:00,  3.60it/s]\n"
     ]
    }
   ],
   "source": [
    "\n",
    "# 코드합치기\n",
    "\n",
    "# 네이버 메인 페이지 열기\n",
    "driver = wb.Chrome()\n",
    "# 키워드 검색\n",
    "driver.get('https://www.naver.com/')\n",
    "\n",
    "# 브라우저 최대화 (이미지를 다 못 가져오는 경우가 생기기 때문에 먼저 해야함)\n",
    "driver.maximize_window()\n",
    "\n",
    "search = driver.find_element(By.ID,'query')\n",
    "keyword = input ('키워드 입력:')\n",
    "search.send_keys(keyword)\n",
    "search.send_keys(Keys.ENTER)\n",
    "\n",
    "\n",
    "if not os.path.isdir(f\"C:\\\\Users\\\\smhrd\\\\Desktop\\\\{keyword}\") :\n",
    "    print(\"폴더생성\")\n",
    "\n",
    "    os.mkdir(f\"C:\\\\Users\\\\smhrd\\\\Desktop\\\\{keyword}\")\n",
    "\n",
    "else:\n",
    "    print(\"이미 존재하는 폴더입니다\")\n",
    "\n",
    "# 이미지 탭으로 이동\n",
    "img = driver.find_element(By.CSS_SELECTOR, '#lnb > div.lnb_group > div > div.lnb_nav_area._nav_area_root > div > div.api_flicking_wrap._conveyer_root > div:nth-child(1) > a') # or LINK_TEXT, \"이미지\" 사용\n",
    "img.click()\n",
    "\n",
    "# 자동 스크롤\n",
    "for i in tqdm(range(3)) :\n",
    "    body = driver.find_element(By.CSS_SELECTOR, 'body')\n",
    "    body.send_keys(Keys.END)\n",
    "    time.sleep(1)\n",
    "\n",
    "# 이미지 태그 수집\n",
    "# 순수한 src 데이터만 추출하여 이미지 파일로 저장\n",
    "img  = driver.find_elements(By.CLASS_NAME, '_fe_image_tab_content_thumbnail_image')\n",
    "\n",
    "for i in tqdm(range(len(img))) : \n",
    "    urlretrieve(img[i].get_attribute('src'),\n",
    "    f'C:\\\\Users\\\\smhrd\\\\Desktop\\\\{keyword}\\\\{keyword}{i+1}.jpg')"
   ]
  }
 ],
 "metadata": {
  "kernelspec": {
   "display_name": "base",
   "language": "python",
   "name": "python3"
  },
  "language_info": {
   "codemirror_mode": {
    "name": "ipython",
    "version": 3
   },
   "file_extension": ".py",
   "mimetype": "text/x-python",
   "name": "python",
   "nbconvert_exporter": "python",
   "pygments_lexer": "ipython3",
   "version": "3.11.5"
  }
 },
 "nbformat": 4,
 "nbformat_minor": 2
}
