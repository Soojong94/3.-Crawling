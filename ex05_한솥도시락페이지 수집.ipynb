{
 "cells": [
  {
   "cell_type": "code",
   "execution_count": 1,
   "metadata": {},
   "outputs": [],
   "source": [
    "# 라이브러리 불러오기\n",
    "from selenium import webdriver as wb\n",
    "from selenium.webdriver.common.keys import Keys\n",
    "from selenium.webdriver.common.by import By\n",
    "import pandas as pd"
   ]
  },
  {
   "cell_type": "code",
   "execution_count": 2,
   "metadata": {},
   "outputs": [],
   "source": [
    "# 크롬 브라우저 실행\n",
    "driver = wb.Chrome()"
   ]
  },
  {
   "cell_type": "code",
   "execution_count": 3,
   "metadata": {},
   "outputs": [],
   "source": [
    "# 페이지 이동(한솥도시락 페이지)\n",
    "driver.get('https://www.hsd.co.kr/menu/menu_list')"
   ]
  },
  {
   "cell_type": "code",
   "execution_count": 4,
   "metadata": {},
   "outputs": [],
   "source": [
    "# 한솥 도시락 페이지 메뉴\n",
    "menu = driver.find_elements(By.CLASS_NAME,('h.fz_03'))"
   ]
  },
  {
   "cell_type": "code",
   "execution_count": 5,
   "metadata": {},
   "outputs": [
    {
     "data": {
      "text/plain": [
       "'사골 조랭이떡 만둣국'"
      ]
     },
     "execution_count": 5,
     "metadata": {},
     "output_type": "execute_result"
    }
   ],
   "source": [
    "menu[0].text"
   ]
  },
  {
   "cell_type": "code",
   "execution_count": 6,
   "metadata": {},
   "outputs": [
    {
     "name": "stdout",
     "output_type": "stream",
     "text": [
      "사골 조랭이떡 만둣국\n",
      "한우 함박스테이크 & 반달 돈까스\n",
      "한우함박스테이크&토네이도소세지\n"
     ]
    }
   ],
   "source": [
    "# 전체 메뉴명 확인\n",
    "for i in menu :\n",
    "    print(i.text)"
   ]
  },
  {
   "cell_type": "code",
   "execution_count": 7,
   "metadata": {},
   "outputs": [],
   "source": [
    "# 가격데이터 수집\n",
    "# 순수한 콘텐츠만 추출"
   ]
  },
  {
   "cell_type": "code",
   "execution_count": 8,
   "metadata": {},
   "outputs": [],
   "source": [
    "price = driver.find_elements(By.CLASS_NAME, ('item-price'))"
   ]
  },
  {
   "cell_type": "code",
   "execution_count": 9,
   "metadata": {},
   "outputs": [
    {
     "data": {
      "text/plain": [
       "'5,900원'"
      ]
     },
     "execution_count": 9,
     "metadata": {},
     "output_type": "execute_result"
    }
   ],
   "source": [
    "price[0].text"
   ]
  },
  {
   "cell_type": "code",
   "execution_count": 10,
   "metadata": {},
   "outputs": [
    {
     "name": "stdout",
     "output_type": "stream",
     "text": [
      "5,900원\n",
      "8,900원\n",
      "8,900원\n"
     ]
    }
   ],
   "source": [
    "for i in price :\n",
    "    print(i.text)"
   ]
  },
  {
   "cell_type": "code",
   "execution_count": 11,
   "metadata": {},
   "outputs": [
    {
     "data": {
      "text/plain": [
       "3"
      ]
     },
     "execution_count": 11,
     "metadata": {},
     "output_type": "execute_result"
    }
   ],
   "source": [
    "len(price)"
   ]
  },
  {
   "cell_type": "markdown",
   "metadata": {},
   "source": [
    "- 현재 브라우저를 실행했을 때 브라우저의 크기만큼 (현재 로딩되어 있는 데이터들만 수집을 한다)\n",
    "- 전체 데이터를 수집하고 싶다면 전체 데이터를 로딩 후에 데이터 수집"
   ]
  },
  {
   "cell_type": "code",
   "execution_count": 12,
   "metadata": {},
   "outputs": [],
   "source": [
    "# 더보기 버튼 클릭하기\n",
    "# 드라이버에게 더보기 버튼 위치를 알려줘야한다\n",
    "# 더보기 버튼 위치 찾아오기\n",
    "btn = driver.find_element(By.CLASS_NAME, 'c_05')"
   ]
  },
  {
   "cell_type": "code",
   "execution_count": 13,
   "metadata": {},
   "outputs": [],
   "source": [
    "btn.click()"
   ]
  },
  {
   "cell_type": "code",
   "execution_count": 15,
   "metadata": {},
   "outputs": [],
   "source": [
    "driver.quit()"
   ]
  },
  {
   "cell_type": "code",
   "execution_count": null,
   "metadata": {},
   "outputs": [],
   "source": [
    "# 반복문을 사용하여 여러번 더보기 버튼 눌러주기\n",
    "# for i in range(30) : \n",
    "#    btn = driver.find_element(By.CLASS_NAME, 'c_05')\n",
    "#    btn.click()\n",
    "# 반복을 진행할 때 반드시 더보기 버튼의 위치를 찾아오는 코드까지 반복해줘야한다"
   ]
  },
  {
   "cell_type": "markdown",
   "metadata": {},
   "source": [
    "### 예외처리\n",
    "- try, except 문\n",
    "- try\n",
    "    - 에러가 나기 전까지 실행할 부분을 try 문에 작성\n",
    "- except\n",
    "    - 에러가 났을 경우 실행할 문장을 except 문에 작성"
   ]
  },
  {
   "cell_type": "code",
   "execution_count": null,
   "metadata": {},
   "outputs": [
    {
     "name": "stdout",
     "output_type": "stream",
     "text": [
      "클릭을 완료하였습니다!\n"
     ]
    }
   ],
   "source": [
    "# try, except 작성하는 이유\n",
    "# 코드 실행시 에러가 나면 셀 전체가 실행되지 않은 상태로 남겨짐\n",
    "# 에러가 나더라도 또다른 실행을 해주고 계속해서 코드를 실행\n",
    "try :\n",
    "    for i in range(30) :\n",
    "        btn = driver.find_element(By.CLASS_NAME, 'c_05')\n",
    "        btn.click()\n",
    "except : \n",
    "    print(\"클릭을 완료하였습니다!\")"
   ]
  },
  {
   "cell_type": "markdown",
   "metadata": {},
   "source": [
    "### 코드 중간에 쉬는 시간을 주는 라이브러리\n",
    "- time"
   ]
  },
  {
   "cell_type": "code",
   "execution_count": 16,
   "metadata": {},
   "outputs": [],
   "source": [
    "import time\n",
    "# 주로 페이지가 새로고침 된 다음에 사용한다\n",
    "# 페이지가 로딩되는 시간을 부여"
   ]
  },
  {
   "cell_type": "code",
   "execution_count": 17,
   "metadata": {},
   "outputs": [
    {
     "name": "stdout",
     "output_type": "stream",
     "text": [
      "클릭을 완료하였습니다!\n"
     ]
    }
   ],
   "source": [
    "try :\n",
    "    for i in range(30) :\n",
    "        btn = driver.find_element(By.CLASS_NAME, 'c_05')\n",
    "        btn.click()\n",
    "        time.sleep(1) # 1초\n",
    "        \n",
    "except : \n",
    "    print(\"클릭을 완료하였습니다!\")"
   ]
  },
  {
   "cell_type": "markdown",
   "metadata": {},
   "source": [
    "### 코드 하나의 셀에 합쳐주기"
   ]
  },
  {
   "cell_type": "code",
   "execution_count": null,
   "metadata": {},
   "outputs": [
    {
     "name": "stdout",
     "output_type": "stream",
     "text": [
      "클릭을 완료하였습니다!\n"
     ]
    }
   ],
   "source": [
    "# 라이브러리 불러오기\n",
    "from selenium import webdriver as wb\n",
    "from selenium.webdriver.common.keys import Keys\n",
    "from selenium.webdriver.common.by import By\n",
    "import pandas as pd\n",
    "\n",
    "#크롬 브라우저 실행\n",
    "driver = wb.Chrome()\n",
    "\n",
    "#페이지 이동\n",
    "driver.get('https://www.hsd.co.kr/menu/menu_list')\n",
    "btn = driver.find_element(By.CLASS_NAME, 'c_05')\n",
    "\n",
    "#더보기 실행\n",
    "try :\n",
    "    for i in range(30) :\n",
    "        btn = driver.find_element(By.CLASS_NAME, 'c_05')\n",
    "        btn.click()\n",
    "        time.sleep(1) # 1초\n",
    "except : \n",
    "    print(\"클릭을 완료하였습니다!\")\n",
    "\n",
    "# 한솥 도시락 페이지 메뉴\n",
    "menu = driver.find_elements(By.CLASS_NAME,('h.fz_03'))\n",
    "\n",
    "# 한솥 도시락 페이지 가격\n",
    "price = driver.find_elements(By.CLASS_NAME, ('item-price'))\n",
    "\n",
    "# 데이터 활용\n",
    "# 순수한 메뉴, 가격을 list 에 담고 dictionary 만들기\n",
    "# DataFrame -> csv  파일로 내보내기"
   ]
  },
  {
   "cell_type": "code",
   "execution_count": null,
   "metadata": {},
   "outputs": [],
   "source": [
    "menu_list = []\n",
    "price_list = []\n",
    "rank_list = []\n",
    "\n",
    "for i in range(len(menu)) :\n",
    "    menu_list.append((menu[i].text))\n",
    "    price_list.append((price[i].text))\n",
    "    rank_list.append(i+1)"
   ]
  },
  {
   "cell_type": "code",
   "execution_count": null,
   "metadata": {},
   "outputs": [
    {
     "data": {
      "text/html": [
       "<div>\n",
       "<style scoped>\n",
       "    .dataframe tbody tr th:only-of-type {\n",
       "        vertical-align: middle;\n",
       "    }\n",
       "\n",
       "    .dataframe tbody tr th {\n",
       "        vertical-align: top;\n",
       "    }\n",
       "\n",
       "    .dataframe thead th {\n",
       "        text-align: right;\n",
       "    }\n",
       "</style>\n",
       "<table border=\"1\" class=\"dataframe\">\n",
       "  <thead>\n",
       "    <tr style=\"text-align: right;\">\n",
       "      <th></th>\n",
       "      <th>메뉴</th>\n",
       "      <th>가격</th>\n",
       "    </tr>\n",
       "    <tr>\n",
       "      <th>순번</th>\n",
       "      <th></th>\n",
       "      <th></th>\n",
       "    </tr>\n",
       "  </thead>\n",
       "  <tbody>\n",
       "    <tr>\n",
       "      <th>1</th>\n",
       "      <td>사골 조랭이떡 만둣국</td>\n",
       "      <td>5,900원</td>\n",
       "    </tr>\n",
       "    <tr>\n",
       "      <th>2</th>\n",
       "      <td>한우 함박스테이크 &amp; 반달 돈까스</td>\n",
       "      <td>8,900원</td>\n",
       "    </tr>\n",
       "    <tr>\n",
       "      <th>3</th>\n",
       "      <td>한우함박스테이크&amp;토네이도소세지</td>\n",
       "      <td>8,900원</td>\n",
       "    </tr>\n",
       "    <tr>\n",
       "      <th>4</th>\n",
       "      <td>해바라기</td>\n",
       "      <td>10,000원</td>\n",
       "    </tr>\n",
       "    <tr>\n",
       "      <th>5</th>\n",
       "      <td>매화</td>\n",
       "      <td>10,500원</td>\n",
       "    </tr>\n",
       "    <tr>\n",
       "      <th>...</th>\n",
       "      <td>...</td>\n",
       "      <td>...</td>\n",
       "    </tr>\n",
       "    <tr>\n",
       "      <th>90</th>\n",
       "      <td>김치</td>\n",
       "      <td>400원</td>\n",
       "    </tr>\n",
       "    <tr>\n",
       "      <th>91</th>\n",
       "      <td>무말랭이 무침</td>\n",
       "      <td>500원</td>\n",
       "    </tr>\n",
       "    <tr>\n",
       "      <th>92</th>\n",
       "      <td>한솥밥</td>\n",
       "      <td>1,000원</td>\n",
       "    </tr>\n",
       "    <tr>\n",
       "      <th>93</th>\n",
       "      <td>현미밥</td>\n",
       "      <td>1,700원</td>\n",
       "    </tr>\n",
       "    <tr>\n",
       "      <th>94</th>\n",
       "      <td>리얼꿀 미니호떡</td>\n",
       "      <td>2,200원</td>\n",
       "    </tr>\n",
       "  </tbody>\n",
       "</table>\n",
       "<p>94 rows × 2 columns</p>\n",
       "</div>"
      ],
      "text/plain": [
       "                    메뉴       가격\n",
       "순번                             \n",
       "1          사골 조랭이떡 만둣국   5,900원\n",
       "2   한우 함박스테이크 & 반달 돈까스   8,900원\n",
       "3     한우함박스테이크&토네이도소세지   8,900원\n",
       "4                 해바라기  10,000원\n",
       "5                   매화  10,500원\n",
       "..                 ...      ...\n",
       "90                  김치     400원\n",
       "91             무말랭이 무침     500원\n",
       "92                 한솥밥   1,000원\n",
       "93                 현미밥   1,700원\n",
       "94            리얼꿀 미니호떡   2,200원\n",
       "\n",
       "[94 rows x 2 columns]"
      ]
     },
     "execution_count": 20,
     "metadata": {},
     "output_type": "execute_result"
    }
   ],
   "source": [
    "dic = {\"메뉴\" : menu_list, \"가격\" : price_list, \"순번\" : rank_list}\n",
    "han = pd.DataFrame(dic)\n",
    "han.set_index('순번', inplace=True)\n",
    "han"
   ]
  },
  {
   "cell_type": "code",
   "execution_count": null,
   "metadata": {},
   "outputs": [],
   "source": [
    "han.to_csv('한솥도시락메뉴.csv')"
   ]
  },
  {
   "cell_type": "code",
   "execution_count": null,
   "metadata": {},
   "outputs": [
    {
     "data": {
      "text/html": [
       "<div>\n",
       "<style scoped>\n",
       "    .dataframe tbody tr th:only-of-type {\n",
       "        vertical-align: middle;\n",
       "    }\n",
       "\n",
       "    .dataframe tbody tr th {\n",
       "        vertical-align: top;\n",
       "    }\n",
       "\n",
       "    .dataframe thead th {\n",
       "        text-align: right;\n",
       "    }\n",
       "</style>\n",
       "<table border=\"1\" class=\"dataframe\">\n",
       "  <thead>\n",
       "    <tr style=\"text-align: right;\">\n",
       "      <th></th>\n",
       "      <th>순번</th>\n",
       "      <th>메뉴</th>\n",
       "      <th>가격</th>\n",
       "    </tr>\n",
       "  </thead>\n",
       "  <tbody>\n",
       "    <tr>\n",
       "      <th>0</th>\n",
       "      <td>1</td>\n",
       "      <td>사골 조랭이떡 만둣국</td>\n",
       "      <td>5,900원</td>\n",
       "    </tr>\n",
       "    <tr>\n",
       "      <th>1</th>\n",
       "      <td>2</td>\n",
       "      <td>한우 함박스테이크 &amp; 반달 돈까스</td>\n",
       "      <td>8,900원</td>\n",
       "    </tr>\n",
       "    <tr>\n",
       "      <th>2</th>\n",
       "      <td>3</td>\n",
       "      <td>한우함박스테이크&amp;토네이도소세지</td>\n",
       "      <td>8,900원</td>\n",
       "    </tr>\n",
       "    <tr>\n",
       "      <th>3</th>\n",
       "      <td>4</td>\n",
       "      <td>해바라기</td>\n",
       "      <td>10,000원</td>\n",
       "    </tr>\n",
       "    <tr>\n",
       "      <th>4</th>\n",
       "      <td>5</td>\n",
       "      <td>매화</td>\n",
       "      <td>10,500원</td>\n",
       "    </tr>\n",
       "    <tr>\n",
       "      <th>...</th>\n",
       "      <td>...</td>\n",
       "      <td>...</td>\n",
       "      <td>...</td>\n",
       "    </tr>\n",
       "    <tr>\n",
       "      <th>89</th>\n",
       "      <td>90</td>\n",
       "      <td>김치</td>\n",
       "      <td>400원</td>\n",
       "    </tr>\n",
       "    <tr>\n",
       "      <th>90</th>\n",
       "      <td>91</td>\n",
       "      <td>무말랭이 무침</td>\n",
       "      <td>500원</td>\n",
       "    </tr>\n",
       "    <tr>\n",
       "      <th>91</th>\n",
       "      <td>92</td>\n",
       "      <td>한솥밥</td>\n",
       "      <td>1,000원</td>\n",
       "    </tr>\n",
       "    <tr>\n",
       "      <th>92</th>\n",
       "      <td>93</td>\n",
       "      <td>현미밥</td>\n",
       "      <td>1,700원</td>\n",
       "    </tr>\n",
       "    <tr>\n",
       "      <th>93</th>\n",
       "      <td>94</td>\n",
       "      <td>리얼꿀 미니호떡</td>\n",
       "      <td>2,200원</td>\n",
       "    </tr>\n",
       "  </tbody>\n",
       "</table>\n",
       "<p>94 rows × 3 columns</p>\n",
       "</div>"
      ],
      "text/plain": [
       "    순번                  메뉴       가격\n",
       "0    1         사골 조랭이떡 만둣국   5,900원\n",
       "1    2  한우 함박스테이크 & 반달 돈까스   8,900원\n",
       "2    3    한우함박스테이크&토네이도소세지   8,900원\n",
       "3    4                해바라기  10,000원\n",
       "4    5                  매화  10,500원\n",
       "..  ..                 ...      ...\n",
       "89  90                  김치     400원\n",
       "90  91             무말랭이 무침     500원\n",
       "91  92                 한솥밥   1,000원\n",
       "92  93                 현미밥   1,700원\n",
       "93  94            리얼꿀 미니호떡   2,200원\n",
       "\n",
       "[94 rows x 3 columns]"
      ]
     },
     "execution_count": 22,
     "metadata": {},
     "output_type": "execute_result"
    }
   ],
   "source": [
    "pd.read_csv('한솥도시락메뉴.csv')"
   ]
  },
  {
   "cell_type": "code",
   "execution_count": 18,
   "metadata": {},
   "outputs": [],
   "source": [
    "# 네이버메인페이지에서 > 키워드검색 > 뉴스 탭 선택 > 뉴스 제목 수집\n",
    "\n",
    "from selenium import webdriver as wb\n",
    "from selenium.webdriver.common.keys import Keys\n",
    "from selenium.webdriver.common.by import By\n",
    "import pandas as pd"
   ]
  },
  {
   "cell_type": "code",
   "execution_count": 19,
   "metadata": {},
   "outputs": [],
   "source": [
    "driver = wb.Chrome()"
   ]
  },
  {
   "cell_type": "code",
   "execution_count": 20,
   "metadata": {},
   "outputs": [],
   "source": [
    "driver.get('https://www.naver.com/')"
   ]
  },
  {
   "cell_type": "code",
   "execution_count": 21,
   "metadata": {},
   "outputs": [],
   "source": [
    "search = driver.find_element(By.ID, 'query')"
   ]
  },
  {
   "cell_type": "code",
   "execution_count": 22,
   "metadata": {},
   "outputs": [],
   "source": [
    "search.send_keys('푸라닭')"
   ]
  },
  {
   "cell_type": "code",
   "execution_count": 23,
   "metadata": {},
   "outputs": [],
   "source": [
    "search.send_keys(Keys.ENTER)"
   ]
  },
  {
   "cell_type": "code",
   "execution_count": 24,
   "metadata": {},
   "outputs": [
    {
     "data": {
      "text/plain": [
       "[<selenium.webdriver.remote.webelement.WebElement (session=\"fcb417114558704a4fe759f7e66282df\", element=\"703F9636797B96937F47959C0FBEDB0D_element_141\")>,\n",
       " <selenium.webdriver.remote.webelement.WebElement (session=\"fcb417114558704a4fe759f7e66282df\", element=\"703F9636797B96937F47959C0FBEDB0D_element_142\")>,\n",
       " <selenium.webdriver.remote.webelement.WebElement (session=\"fcb417114558704a4fe759f7e66282df\", element=\"703F9636797B96937F47959C0FBEDB0D_element_143\")>,\n",
       " <selenium.webdriver.remote.webelement.WebElement (session=\"fcb417114558704a4fe759f7e66282df\", element=\"703F9636797B96937F47959C0FBEDB0D_element_144\")>,\n",
       " <selenium.webdriver.remote.webelement.WebElement (session=\"fcb417114558704a4fe759f7e66282df\", element=\"703F9636797B96937F47959C0FBEDB0D_element_145\")>,\n",
       " <selenium.webdriver.remote.webelement.WebElement (session=\"fcb417114558704a4fe759f7e66282df\", element=\"703F9636797B96937F47959C0FBEDB0D_element_146\")>,\n",
       " <selenium.webdriver.remote.webelement.WebElement (session=\"fcb417114558704a4fe759f7e66282df\", element=\"703F9636797B96937F47959C0FBEDB0D_element_147\")>,\n",
       " <selenium.webdriver.remote.webelement.WebElement (session=\"fcb417114558704a4fe759f7e66282df\", element=\"703F9636797B96937F47959C0FBEDB0D_element_148\")>,\n",
       " <selenium.webdriver.remote.webelement.WebElement (session=\"fcb417114558704a4fe759f7e66282df\", element=\"703F9636797B96937F47959C0FBEDB0D_element_149\")>,\n",
       " <selenium.webdriver.remote.webelement.WebElement (session=\"fcb417114558704a4fe759f7e66282df\", element=\"703F9636797B96937F47959C0FBEDB0D_element_150\")>,\n",
       " <selenium.webdriver.remote.webelement.WebElement (session=\"fcb417114558704a4fe759f7e66282df\", element=\"703F9636797B96937F47959C0FBEDB0D_element_151\")>,\n",
       " <selenium.webdriver.remote.webelement.WebElement (session=\"fcb417114558704a4fe759f7e66282df\", element=\"703F9636797B96937F47959C0FBEDB0D_element_152\")>,\n",
       " <selenium.webdriver.remote.webelement.WebElement (session=\"fcb417114558704a4fe759f7e66282df\", element=\"703F9636797B96937F47959C0FBEDB0D_element_153\")>]"
      ]
     },
     "execution_count": 24,
     "metadata": {},
     "output_type": "execute_result"
    }
   ],
   "source": [
    "driver.find_elements(By.CSS_SELECTOR, 'div.api_flicking_wrap._conveyer_root > div')"
   ]
  },
  {
   "cell_type": "code",
   "execution_count": null,
   "metadata": {},
   "outputs": [],
   "source": []
  },
  {
   "cell_type": "code",
   "execution_count": null,
   "metadata": {},
   "outputs": [],
   "source": []
  }
 ],
 "metadata": {
  "kernelspec": {
   "display_name": "base",
   "language": "python",
   "name": "python3"
  },
  "language_info": {
   "codemirror_mode": {
    "name": "ipython",
    "version": 3
   },
   "file_extension": ".py",
   "mimetype": "text/x-python",
   "name": "python",
   "nbconvert_exporter": "python",
   "pygments_lexer": "ipython3",
   "version": "3.11.5"
  }
 },
 "nbformat": 4,
 "nbformat_minor": 2
}
