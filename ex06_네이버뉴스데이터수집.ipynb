{
 "cells": [
  {
   "cell_type": "code",
   "execution_count": null,
   "metadata": {},
   "outputs": [],
   "source": []
  },
  {
   "cell_type": "markdown",
   "metadata": {},
   "source": [
    "#### 네이버메인페이지에서 > 키워드검색 > 뉴스 탭 선택 > 뉴스 제목 수집"
   ]
  },
  {
   "cell_type": "code",
   "execution_count": 1,
   "metadata": {},
   "outputs": [],
   "source": [
    "# 네이버메인페이지에서 > 키워드검색 > 뉴스 탭 선택 > 뉴스 제목 수집\n",
    "\n",
    "from selenium import webdriver as wb\n",
    "from selenium.webdriver.common.keys import Keys\n",
    "from selenium.webdriver.common.by import By\n",
    "import pandas as pd"
   ]
  },
  {
   "cell_type": "code",
   "execution_count": null,
   "metadata": {},
   "outputs": [],
   "source": [
    "driver = wb.Chrome()\n",
    "driver.get('https://www.naver.com/')"
   ]
  },
  {
   "cell_type": "code",
   "execution_count": null,
   "metadata": {},
   "outputs": [],
   "source": [
    "search = driver.find_element(By.ID, 'query')\n",
    "keyword = input('키워드를 입력하세요')\n",
    "search.send_keys(keyword)\n",
    "search.send_keys(Keys.ENTER)"
   ]
  },
  {
   "cell_type": "code",
   "execution_count": 6,
   "metadata": {},
   "outputs": [],
   "source": [
    "news = driver.find_element(By.CSS_SELECTOR, 'div.api_flicking_wrap._conveyer_root>div:nth-child(1)')\n",
    "news.click()"
   ]
  },
  {
   "cell_type": "code",
   "execution_count": 7,
   "metadata": {},
   "outputs": [],
   "source": [
    "# 탭의 순서가 바뀌게 되었을 경우에는 다른 탭을 클릭할 수도 있음\n",
    "# 써져 있는 텍스트를 통해서 클릭\n",
    "news2 = driver.find_element(By.LINK_TEXT,'뉴스')\n",
    "news2.click()"
   ]
  },
  {
   "cell_type": "code",
   "execution_count": 10,
   "metadata": {},
   "outputs": [],
   "source": [
    "newsImage = driver.find_element(By.LINK_TEXT,'이미지')\n",
    "newsImage.click()"
   ]
  },
  {
   "cell_type": "code",
   "execution_count": 8,
   "metadata": {},
   "outputs": [
    {
     "data": {
      "text/plain": [
       "\"경북도인재개발원, 올해 '지방시대 주도 인재양성 교육' 스타트\""
      ]
     },
     "execution_count": 8,
     "metadata": {},
     "output_type": "execute_result"
    }
   ],
   "source": [
    "# 뉴스타이틀 수집!\n",
    "news_tit = driver.find_elements(By.CLASS_NAME, 'news_tit')\n",
    "news_tit[0].text"
   ]
  },
  {
   "cell_type": "code",
   "execution_count": 9,
   "metadata": {},
   "outputs": [
    {
     "name": "stdout",
     "output_type": "stream",
     "text": [
      "경북도인재개발원, 올해 '지방시대 주도 인재양성 교육' 스타트\n",
      "\n",
      "경북도 인재개발원, ‘제21기 중견리더양성과정’ 입교식 개최\n",
      "\n",
      "스마트인재개발원, 27일 새로운 무료 공개 강의 'AI 원데이 클래스' 개최\n",
      "\n",
      "스마트인재개발원 2024 새로운'AI 원데이 클래스'개최\n",
      "\n",
      "스마트인재개발원, 취업전략서 무료 배포\n",
      "\n",
      "스마트인재개발원 대기업 합격비법이 담긴 취업전략서 선착순 배포\n",
      "\n",
      "충남도의회 기경위, 지역인재 양성 위한 도립대 환경·정책개선 주문\n",
      "\n",
      "스마트인재개발원 소식지 '세미콜론' 제11호 발간\n",
      "\n",
      "스마트인재개발원, ‘세미콜론’ 제11호 발간\n",
      "\n",
      "첨단, 스마트인재개발원과 첨단기술 인재 교육 위해 협력한다\n",
      "\n"
     ]
    }
   ],
   "source": [
    "# 반복문을 통해 출력\n",
    "for i in news_tit :\n",
    "    print(i.text)\n",
    "    print()"
   ]
  }
 ],
 "metadata": {
  "kernelspec": {
   "display_name": "base",
   "language": "python",
   "name": "python3"
  },
  "language_info": {
   "codemirror_mode": {
    "name": "ipython",
    "version": 3
   },
   "file_extension": ".py",
   "mimetype": "text/x-python",
   "name": "python",
   "nbconvert_exporter": "python",
   "pygments_lexer": "ipython3",
   "version": "3.11.5"
  }
 },
 "nbformat": 4,
 "nbformat_minor": 2
}
