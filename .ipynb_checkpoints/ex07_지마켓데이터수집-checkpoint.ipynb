{
 "cells": [
  {
   "cell_type": "markdown",
   "metadata": {},
   "source": [
    "### 학습목표\n",
    "- Gmarket 페이지에서 상품명, 가격 카테고리 수집"
   ]
  },
  {
   "cell_type": "code",
   "execution_count": 2,
   "metadata": {},
   "outputs": [],
   "source": [
    "# 라이브러리 불러오기\n",
    "from selenium import webdriver as wb\n",
    "from selenium.webdriver.common.keys import Keys\n",
    "from selenium.webdriver.common.by import By\n",
    "import pandas as pd\n"
   ]
  },
  {
   "cell_type": "code",
   "execution_count": 4,
   "metadata": {},
   "outputs": [],
   "source": [
    "# g마켓 페이지 열기\n",
    "driver= wb.Chrome()\n",
    "driver.get('http://corners.gmarket.co.kr/Bestsellers')"
   ]
  },
  {
   "cell_type": "code",
   "execution_count": 7,
   "metadata": {},
   "outputs": [],
   "source": [
    "# 1. 1위 상품 클릭하여 페이지 이동\n",
    "best = driver.find_element(By.CLASS_NAME, 'image__lazy.image__load')\n",
    "best.click()"
   ]
  },
  {
   "cell_type": "code",
   "execution_count": 21,
   "metadata": {},
   "outputs": [],
   "source": [
    "# 2. 상품명, 가격, 카테고리 데이터 수집\n",
    "# title, price, cate 변수에 담기\n",
    "title = driver.find_element(By.CLASS_NAME, 'itemtit').text\n",
    "price = driver.find_element(By.CLASS_NAME,'price_real').text\n",
    "cate = driver.find_element(By.CSS_SELECTOR, 'div.location-navi>ul>li.on>a').text"
   ]
  },
  {
   "cell_type": "code",
   "execution_count": 23,
   "metadata": {},
   "outputs": [
    {
     "name": "stdout",
     "output_type": "stream",
     "text": [
      "(15%+5%쿠폰) 시크릿무드 역마진 단하루/ 겨울마감+봄맞이 BEST신상 데일리룩 가디건/니트/자켓/팬츠/스커트\n",
      "10,000원\n",
      "라운드넥티셔츠\n"
     ]
    }
   ],
   "source": [
    "# 출력\n",
    "print(title, price, cate, sep=\"\\n\")"
   ]
  },
  {
   "cell_type": "code",
   "execution_count": null,
   "metadata": {},
   "outputs": [],
   "source": [
    "# 태그 선택 하는 방법\n",
    "# 절대적인 위치를 가져올 수 있다(한 페이지에서 하나만 사용 가능(id값이기 때문에))\n",
    "# 원하는 태그 위에서 우클릭 > copy > copy selector > 클립보드 복사 > 붙여넣기\n",
    "# itemcase_basic > div.box__item-title > h1\n",
    "# By.CSS_SELECTOR로 설정해야한다"
   ]
  },
  {
   "cell_type": "code",
   "execution_count": 27,
   "metadata": {},
   "outputs": [],
   "source": [
    "# 상품명, 가격 ,카테고리 정보를 절대적인 위치로 수집하기\n",
    "title = driver.find_element(By.CSS_SELECTOR, '#itemcase_basic > div.box__item-title > h1').text\n",
    "price = driver.find_element(By.CSS_SELECTOR, '#itemcase_basic > div.box__item-title > div.price > span:nth-child(2) > strong').text\n",
    "cate = driver.find_element(By.CSS_SELECTOR, 'body > div.location-navi > ul > li.on > a').text"
   ]
  },
  {
   "cell_type": "code",
   "execution_count": 28,
   "metadata": {},
   "outputs": [
    {
     "name": "stdout",
     "output_type": "stream",
     "text": [
      "(15%+5%쿠폰) 시크릿무드 역마진 단하루/ 겨울마감+봄맞이 BEST신상 데일리룩 가디건/니트/자켓/팬츠/스커트\n",
      "10,000원\n",
      "라운드넥티셔츠\n"
     ]
    }
   ],
   "source": [
    "print(title, price, cate, sep=\"\\n\")"
   ]
  },
  {
   "cell_type": "code",
   "execution_count": 29,
   "metadata": {},
   "outputs": [],
   "source": [
    "# 뒤로가기\n",
    "driver.back()"
   ]
  },
  {
   "cell_type": "code",
   "execution_count": null,
   "metadata": {},
   "outputs": [],
   "source": []
  },
  {
   "cell_type": "code",
   "execution_count": null,
   "metadata": {},
   "outputs": [],
   "source": []
  },
  {
   "cell_type": "code",
   "execution_count": null,
   "metadata": {},
   "outputs": [],
   "source": []
  },
  {
   "cell_type": "code",
   "execution_count": null,
   "metadata": {},
   "outputs": [],
   "source": []
  },
  {
   "cell_type": "code",
   "execution_count": null,
   "metadata": {},
   "outputs": [],
   "source": []
  }
 ],
 "metadata": {
  "kernelspec": {
   "display_name": "Python 3 (ipykernel)",
   "language": "python",
   "name": "python3"
  },
  "language_info": {
   "codemirror_mode": {
    "name": "ipython",
    "version": 3
   },
   "file_extension": ".py",
   "mimetype": "text/x-python",
   "name": "python",
   "nbconvert_exporter": "python",
   "pygments_lexer": "ipython3",
   "version": "3.11.5"
  }
 },
 "nbformat": 4,
 "nbformat_minor": 2
}
