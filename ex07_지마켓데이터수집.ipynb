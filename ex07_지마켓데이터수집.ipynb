{
 "cells": [
  {
   "cell_type": "markdown",
   "metadata": {},
   "source": [
    "### 학습목표\n",
    "- Gmarket 페이지에서 상품명, 가격 카테고리 수집"
   ]
  },
  {
   "cell_type": "code",
   "execution_count": 2,
   "metadata": {},
   "outputs": [],
   "source": [
    "# 라이브러리 불러오기\n",
    "from selenium import webdriver as wb\n",
    "from selenium.webdriver.common.keys import Keys\n",
    "from selenium.webdriver.common.by import By\n",
    "import pandas as pd\n"
   ]
  },
  {
   "cell_type": "code",
   "execution_count": 36,
   "metadata": {},
   "outputs": [],
   "source": [
    "# g마켓 페이지 열기\n",
    "driver= wb.Chrome()\n",
    "driver.get('http://corners.gmarket.co.kr/Bestsellers')"
   ]
  },
  {
   "cell_type": "code",
   "execution_count": 7,
   "metadata": {},
   "outputs": [],
   "source": [
    "# 1. 1위 상품 클릭하여 페이지 이동\n",
    "best = driver.find_element(By.CLASS_NAME, 'image__lazy.image__load')\n",
    "best.click()"
   ]
  },
  {
   "cell_type": "code",
   "execution_count": 21,
   "metadata": {},
   "outputs": [],
   "source": [
    "# 2. 상품명, 가격, 카테고리 데이터 수집\n",
    "# title, price, cate 변수에 담기\n",
    "title = driver.find_element(By.CLASS_NAME, 'itemtit').text\n",
    "price = driver.find_element(By.CLASS_NAME,'price_real').text\n",
    "cate = driver.find_element(By.CSS_SELECTOR, 'div.location-navi>ul>li.on>a').text"
   ]
  },
  {
   "cell_type": "code",
   "execution_count": 23,
   "metadata": {},
   "outputs": [
    {
     "name": "stdout",
     "output_type": "stream",
     "text": [
      "(15%+5%쿠폰) 시크릿무드 역마진 단하루/ 겨울마감+봄맞이 BEST신상 데일리룩 가디건/니트/자켓/팬츠/스커트\n",
      "10,000원\n",
      "라운드넥티셔츠\n"
     ]
    }
   ],
   "source": [
    "# 출력\n",
    "print(title, price, cate, sep=\"\\n\")"
   ]
  },
  {
   "cell_type": "code",
   "execution_count": null,
   "metadata": {},
   "outputs": [],
   "source": [
    "# 태그 선택 하는 방법\n",
    "# 절대적인 위치를 가져올 수 있다(한 페이지에서 하나만 사용 가능(id값이기 때문에))\n",
    "# 원하는 태그 위에서 우클릭 > copy > copy selector > 클립보드 복사 > 붙여넣기\n",
    "# itemcase_basic > div.box__item-title > h1\n",
    "# By.CSS_SELECTOR로 설정해야한다"
   ]
  },
  {
   "cell_type": "code",
   "execution_count": 27,
   "metadata": {},
   "outputs": [],
   "source": [
    "# 상품명, 가격 ,카테고리 정보를 절대적인 위치로 수집하기\n",
    "title = driver.find_element(By.CSS_SELECTOR, '#itemcase_basic > div.box__item-title > h1').text\n",
    "price = driver.find_element(By.CSS_SELECTOR, '#itemcase_basic > div.box__item-title > div.price > span:nth-child(2) > strong').text\n",
    "cate = driver.find_element(By.CSS_SELECTOR, 'body > div.location-navi > ul > li.on > a').text"
   ]
  },
  {
   "cell_type": "code",
   "execution_count": 28,
   "metadata": {},
   "outputs": [
    {
     "name": "stdout",
     "output_type": "stream",
     "text": [
      "(15%+5%쿠폰) 시크릿무드 역마진 단하루/ 겨울마감+봄맞이 BEST신상 데일리룩 가디건/니트/자켓/팬츠/스커트\n",
      "10,000원\n",
      "라운드넥티셔츠\n"
     ]
    }
   ],
   "source": [
    "print(title, price, cate, sep=\"\\n\")"
   ]
  },
  {
   "cell_type": "code",
   "execution_count": 29,
   "metadata": {},
   "outputs": [],
   "source": [
    "# 뒤로가기\n",
    "driver.back()"
   ]
  },
  {
   "cell_type": "markdown",
   "metadata": {},
   "source": [
    "### 상위 10개 데이터 수집하기"
   ]
  },
  {
   "cell_type": "code",
   "execution_count": 1,
   "metadata": {},
   "outputs": [
    {
     "name": "stderr",
     "output_type": "stream",
     "text": [
      "\r\n",
      "  0%|          | 0/10 [00:00<?, ?it/s]"
     ]
    },
    {
     "name": "stdout",
     "output_type": "stream",
     "text": [
      "대한민국 대표 그림 동화 작가 - 백희나 그림책 - 골라담기 핫딜\n",
      "6,600원\n",
      "유아\n"
     ]
    },
    {
     "name": "stderr",
     "output_type": "stream",
     "text": [
      "\r\n",
      " 10%|█         | 1/10 [00:05<00:45,  5.11s/it]"
     ]
    },
    {
     "name": "stdout",
     "output_type": "stream",
     "text": [
      "(15%+5%쿠폰) 시크릿무드 역마진 단하루/ 겨울마감+봄맞이 BEST신상 데일리룩 가디건/니트/자켓/팬츠/스커트\n",
      "10,000원\n",
      "라운드넥티셔츠\n"
     ]
    },
    {
     "name": "stderr",
     "output_type": "stream",
     "text": [
      "\r\n",
      " 20%|██        | 2/10 [00:11<00:45,  5.69s/it]"
     ]
    },
    {
     "name": "stdout",
     "output_type": "stream",
     "text": [
      "LIVE체감가6만4천원 갤럭시 버즈2 무선 블루투스 이어폰 SM-R177 +신세계5천원+선물포장 증정 (G라이브)\n",
      "94,090원\n",
      "블루투스이어폰\n"
     ]
    },
    {
     "name": "stderr",
     "output_type": "stream",
     "text": [
      "\r\n",
      " 30%|███       | 3/10 [00:17<00:40,  5.79s/it]"
     ]
    },
    {
     "name": "stdout",
     "output_type": "stream",
     "text": [
      "삼성전자 갤럭시 워치6 블루투스 40mm 최대혜택가 187000 신세계 상품권 2만+보호필름+선물포장+2종혜택\n",
      "287,880원\n",
      "스마트워치\n"
     ]
    },
    {
     "name": "stderr",
     "output_type": "stream",
     "text": [
      "\r\n",
      " 40%|████      | 4/10 [00:22<00:33,  5.61s/it]"
     ]
    },
    {
     "name": "stdout",
     "output_type": "stream",
     "text": [
      "(신세계타임스퀘어점패션관)신상 최저가 순면 기본 무지 반팔 티셔츠 3+1PACK PHD5TR3900\n",
      "17,930원\n",
      "기본/라운드/브이넥\n"
     ]
    },
    {
     "name": "stderr",
     "output_type": "stream",
     "text": [
      "\r\n",
      " 50%|█████     | 5/10 [00:27<00:27,  5.49s/it]"
     ]
    },
    {
     "name": "stdout",
     "output_type": "stream",
     "text": [
      "(유니버스클럽 전용 쿠폰적용가 5천원) 메가박스 일반예매권 2D-주중/주말\n",
      "15,000원\n",
      "메가박스\n"
     ]
    },
    {
     "name": "stderr",
     "output_type": "stream",
     "text": [
      "\r\n",
      " 60%|██████    | 6/10 [00:32<00:20,  5.20s/it]"
     ]
    },
    {
     "name": "stdout",
     "output_type": "stream",
     "text": [
      "투게더 6종 3+2개 골라담기 +구매기프트 3개\n",
      "29,200원\n",
      "아이스크림\n"
     ]
    },
    {
     "name": "stderr",
     "output_type": "stream",
     "text": [
      "\r\n",
      " 70%|███████   | 7/10 [00:37<00:15,  5.33s/it]"
     ]
    },
    {
     "name": "stdout",
     "output_type": "stream",
     "text": [
      "캡슐당 419원)일리 네스프레소 호환 커피 캡슐 6종 100캡슐 맛선택가능\n",
      "55,900원\n",
      "캡슐커피\n"
     ]
    },
    {
     "name": "stderr",
     "output_type": "stream",
     "text": [
      "\r\n",
      " 80%|████████  | 8/10 [00:44<00:11,  5.63s/it]"
     ]
    },
    {
     "name": "stdout",
     "output_type": "stream",
     "text": [
      "닥터페퍼 제로 355ML 24입 1박스 탄산음료\n",
      "21,900원\n",
      "탄산/기능성음료\n"
     ]
    },
    {
     "name": "stderr",
     "output_type": "stream",
     "text": [
      "\r\n",
      " 90%|█████████ | 9/10 [00:50<00:05,  5.73s/it]"
     ]
    },
    {
     "name": "stdout",
     "output_type": "stream",
     "text": [
      "(신세계본점)본점단독블루독베이비 경량패딩점퍼 60000원 (43A19-113-99)\n",
      "45,000원\n",
      "유아동점퍼\n"
     ]
    },
    {
     "name": "stderr",
     "output_type": "stream",
     "text": [
      "100%|██████████| 10/10 [00:55<00:00,  5.50s/it]\n"
     ]
    }
   ],
   "source": [
    "# 코드 합치기\n",
    "\n",
    "# 라이브러리 불러오기\n",
    "from selenium import webdriver as wb #통제, 제어\n",
    "from selenium.webdriver.common.keys import Keys \n",
    "from selenium.webdriver.common.by import By # 구분\n",
    "import time # 쉬는 시간\n",
    "# 반복 진행상황을 로딩바로 확인\n",
    "from tqdm import tqdm\n",
    "\n",
    "# g마켓 페이지 열기\n",
    "driver= wb.Chrome()\n",
    "driver.get('http://corners.gmarket.co.kr/Bestsellers')\n",
    "time.sleep(1)\n",
    "\n",
    "# 1. 1위 상품 클릭하여 페이지 이동\n",
    "for i in tqdm(range(10)) :\n",
    "    best = driver.find_elements(By.CLASS_NAME, 'image__lazy.image__load')[i]\n",
    "    best.click()\n",
    "    time.sleep(1)\n",
    "\n",
    "    # 2. 상품명, 가격, 카테고리 데이터 수집\n",
    "    # 상품명, 가격 ,카테고리 정보를 절대적인 위치로 수집하기\n",
    "    title = driver.find_element(By.CSS_SELECTOR, '#itemcase_basic > div.box__item-title > h1').text\n",
    "    price = driver.find_element(By.CSS_SELECTOR, '#itemcase_basic > div.box__item-title > div.price > span:nth-child(2) > strong').text\n",
    "    cate = driver.find_element(By.CSS_SELECTOR, 'body > div.location-navi > ul > li.on > a').text\n",
    "    print(title, price, cate, sep=\"\\n\")\n",
    "\n",
    "    # 뒤로가기\n",
    "    driver.back()\n",
    "    time.sleep(1)"
   ]
  },
  {
   "cell_type": "code",
   "execution_count": 35,
   "metadata": {},
   "outputs": [
    {
     "name": "stderr",
     "output_type": "stream",
     "text": [
      "100%|██████████| 10/10 [00:55<00:00,  5.55s/it]\n"
     ]
    }
   ],
   "source": [
    "# 코드 합치기\n",
    "# 라이브러리 불러오기\n",
    "from selenium import webdriver as wb # 통제,제어\n",
    "from selenium.webdriver.common.keys import Keys # 입력, 컴퓨터용 키보드\n",
    "from selenium.webdriver.common.by import By # 구분\n",
    "import pandas as pd\n",
    "import time # 쉬는시간\n",
    "# 반복 진행상황을 로딩바로 확인\n",
    "from tqdm import tqdm\n",
    "\n",
    "# gmarket 페이지 열기\n",
    "driver = wb.Chrome()\n",
    "driver.get('http://corners.gmarket.co.kr/Bestsellers')\n",
    "time.sleep(1)\n",
    "#반복문\n",
    "for i in tqdm(range(10)):\n",
    "    # 이미지를 클릭\n",
    "    driver.find_elements(By.CLASS_NAME,'image__lazy.image__load')[i].click()\n",
    "    time.sleep(1)\n",
    "    #상품명, 가격, 카테고리 정보를  절대적인 위치로 가져와보자!\n",
    "    title = driver.find_element(By.CSS_SELECTOR, '#itemcase_basic > div.box__item-title > h1').text\n",
    "    price = driver.find_element(By.CSS_SELECTOR,'#itemcase_basic > div.box__item-title > div.price > span:nth-child(2) > strong').text\n",
    "    cate =  driver.find_element(By.CSS_SELECTOR,'body > div.location-navi > ul > li.on > a').text\n",
    "\n",
    "    # 뒤로가기\n",
    "    driver.back()\n",
    "    time.sleep(1)"
   ]
  },
  {
   "cell_type": "code",
   "execution_count": 43,
   "metadata": {},
   "outputs": [
    {
     "name": "stderr",
     "output_type": "stream",
     "text": [
      "  0%|          | 0/10 [00:00<?, ?it/s]"
     ]
    },
    {
     "name": "stdout",
     "output_type": "stream",
     "text": [
      "대한민국 대표 그림 동화 작가 - 백희나 그림책 - 골라담기 핫딜\n",
      "6,600원\n",
      "유아\n"
     ]
    },
    {
     "name": "stderr",
     "output_type": "stream",
     "text": [
      " 10%|█         | 1/10 [00:04<00:44,  4.92s/it]"
     ]
    },
    {
     "name": "stdout",
     "output_type": "stream",
     "text": [
      "(15%+5%쿠폰) 시크릿무드 역마진 단하루/ 겨울마감+봄맞이 BEST신상 데일리룩 가디건/니트/자켓/팬츠/스커트\n",
      "10,000원\n",
      "라운드넥티셔츠\n"
     ]
    },
    {
     "name": "stderr",
     "output_type": "stream",
     "text": [
      " 20%|██        | 2/10 [00:11<00:46,  5.78s/it]"
     ]
    },
    {
     "name": "stdout",
     "output_type": "stream",
     "text": [
      "LIVE체감가6만4천원 갤럭시 버즈2 무선 블루투스 이어폰 SM-R177 +신세계5천원+선물포장 증정 (G라이브)\n",
      "94,090원\n",
      "블루투스이어폰\n"
     ]
    },
    {
     "name": "stderr",
     "output_type": "stream",
     "text": [
      " 30%|███       | 3/10 [00:17<00:41,  5.88s/it]"
     ]
    },
    {
     "name": "stdout",
     "output_type": "stream",
     "text": [
      "삼성전자 갤럭시 워치6 블루투스 40mm 최대혜택가 187000 신세계 상품권 2만+보호필름+선물포장+2종혜택\n",
      "287,880원\n",
      "스마트워치\n"
     ]
    },
    {
     "name": "stderr",
     "output_type": "stream",
     "text": [
      " 40%|████      | 4/10 [00:23<00:34,  5.77s/it]\n"
     ]
    },
    {
     "ename": "NoSuchElementException",
     "evalue": "Message: no such element: Unable to locate element: {\"method\":\"css selector\",\"selector\":\"#gBestWrap > div.best-list > ul > li:nth-child(5) > div.thumb > a > img\"}\n  (Session info: chrome=121.0.6167.185); For documentation on this error, please visit: https://www.selenium.dev/documentation/webdriver/troubleshooting/errors#no-such-element-exception\nStacktrace:\n\tGetHandleVerifier [0x00007FF661FD7012+3522402]\n\t(No symbol) [0x00007FF661BF8352]\n\t(No symbol) [0x00007FF661AA5ABB]\n\t(No symbol) [0x00007FF661AEBF0E]\n\t(No symbol) [0x00007FF661AEC08C]\n\t(No symbol) [0x00007FF661B2E437]\n\t(No symbol) [0x00007FF661B0F09F]\n\t(No symbol) [0x00007FF661B2BDA3]\n\t(No symbol) [0x00007FF661B0EE03]\n\t(No symbol) [0x00007FF661ADF4D4]\n\t(No symbol) [0x00007FF661AE05F1]\n\tGetHandleVerifier [0x00007FF662009B9D+3730157]\n\tGetHandleVerifier [0x00007FF66205F02D+4079485]\n\tGetHandleVerifier [0x00007FF6620575D3+4048163]\n\tGetHandleVerifier [0x00007FF661D2A649+718233]\n\t(No symbol) [0x00007FF661C04A3F]\n\t(No symbol) [0x00007FF661BFFA94]\n\t(No symbol) [0x00007FF661BFFBC2]\n\t(No symbol) [0x00007FF661BEF2E4]\n\tBaseThreadInitThunk [0x00007FFE57187344+20]\n\tRtlUserThreadStart [0x00007FFE574426B1+33]\n",
     "output_type": "error",
     "traceback": [
      "\u001b[1;31m---------------------------------------------------------------------------\u001b[0m",
      "\u001b[1;31mNoSuchElementException\u001b[0m                    Traceback (most recent call last)",
      "Cell \u001b[1;32mIn[43], line 18\u001b[0m\n\u001b[0;32m     16\u001b[0m \u001b[38;5;66;03m# 1. 1위 상품 클릭하여 페이지 이동\u001b[39;00m\n\u001b[0;32m     17\u001b[0m \u001b[38;5;28;01mfor\u001b[39;00m i \u001b[38;5;129;01min\u001b[39;00m tqdm(\u001b[38;5;28mrange\u001b[39m(\u001b[38;5;241m10\u001b[39m)) :\n\u001b[1;32m---> 18\u001b[0m     best \u001b[38;5;241m=\u001b[39m driver\u001b[38;5;241m.\u001b[39mfind_element(By\u001b[38;5;241m.\u001b[39mCSS_SELECTOR, \u001b[38;5;124mf\u001b[39m\u001b[38;5;124m'\u001b[39m\u001b[38;5;124m#gBestWrap > div.best-list > ul > li:nth-child(\u001b[39m\u001b[38;5;132;01m{\u001b[39;00mi\u001b[38;5;241m+\u001b[39m\u001b[38;5;241m1\u001b[39m\u001b[38;5;132;01m}\u001b[39;00m\u001b[38;5;124m) > div.thumb > a > img\u001b[39m\u001b[38;5;124m'\u001b[39m)\n\u001b[0;32m     19\u001b[0m     best\u001b[38;5;241m.\u001b[39mclick()\n\u001b[0;32m     20\u001b[0m     time\u001b[38;5;241m.\u001b[39msleep(\u001b[38;5;241m1\u001b[39m)\n",
      "File \u001b[1;32mc:\\Users\\smhrd\\anaconda3\\Lib\\site-packages\\selenium\\webdriver\\remote\\webdriver.py:741\u001b[0m, in \u001b[0;36mWebDriver.find_element\u001b[1;34m(self, by, value)\u001b[0m\n\u001b[0;32m    738\u001b[0m     by \u001b[38;5;241m=\u001b[39m By\u001b[38;5;241m.\u001b[39mCSS_SELECTOR\n\u001b[0;32m    739\u001b[0m     value \u001b[38;5;241m=\u001b[39m \u001b[38;5;124mf\u001b[39m\u001b[38;5;124m'\u001b[39m\u001b[38;5;124m[name=\u001b[39m\u001b[38;5;124m\"\u001b[39m\u001b[38;5;132;01m{\u001b[39;00mvalue\u001b[38;5;132;01m}\u001b[39;00m\u001b[38;5;124m\"\u001b[39m\u001b[38;5;124m]\u001b[39m\u001b[38;5;124m'\u001b[39m\n\u001b[1;32m--> 741\u001b[0m \u001b[38;5;28;01mreturn\u001b[39;00m \u001b[38;5;28mself\u001b[39m\u001b[38;5;241m.\u001b[39mexecute(Command\u001b[38;5;241m.\u001b[39mFIND_ELEMENT, {\u001b[38;5;124m\"\u001b[39m\u001b[38;5;124musing\u001b[39m\u001b[38;5;124m\"\u001b[39m: by, \u001b[38;5;124m\"\u001b[39m\u001b[38;5;124mvalue\u001b[39m\u001b[38;5;124m\"\u001b[39m: value})[\u001b[38;5;124m\"\u001b[39m\u001b[38;5;124mvalue\u001b[39m\u001b[38;5;124m\"\u001b[39m]\n",
      "File \u001b[1;32mc:\\Users\\smhrd\\anaconda3\\Lib\\site-packages\\selenium\\webdriver\\remote\\webdriver.py:347\u001b[0m, in \u001b[0;36mWebDriver.execute\u001b[1;34m(self, driver_command, params)\u001b[0m\n\u001b[0;32m    345\u001b[0m response \u001b[38;5;241m=\u001b[39m \u001b[38;5;28mself\u001b[39m\u001b[38;5;241m.\u001b[39mcommand_executor\u001b[38;5;241m.\u001b[39mexecute(driver_command, params)\n\u001b[0;32m    346\u001b[0m \u001b[38;5;28;01mif\u001b[39;00m response:\n\u001b[1;32m--> 347\u001b[0m     \u001b[38;5;28mself\u001b[39m\u001b[38;5;241m.\u001b[39merror_handler\u001b[38;5;241m.\u001b[39mcheck_response(response)\n\u001b[0;32m    348\u001b[0m     response[\u001b[38;5;124m\"\u001b[39m\u001b[38;5;124mvalue\u001b[39m\u001b[38;5;124m\"\u001b[39m] \u001b[38;5;241m=\u001b[39m \u001b[38;5;28mself\u001b[39m\u001b[38;5;241m.\u001b[39m_unwrap_value(response\u001b[38;5;241m.\u001b[39mget(\u001b[38;5;124m\"\u001b[39m\u001b[38;5;124mvalue\u001b[39m\u001b[38;5;124m\"\u001b[39m, \u001b[38;5;28;01mNone\u001b[39;00m))\n\u001b[0;32m    349\u001b[0m     \u001b[38;5;28;01mreturn\u001b[39;00m response\n",
      "File \u001b[1;32mc:\\Users\\smhrd\\anaconda3\\Lib\\site-packages\\selenium\\webdriver\\remote\\errorhandler.py:229\u001b[0m, in \u001b[0;36mErrorHandler.check_response\u001b[1;34m(self, response)\u001b[0m\n\u001b[0;32m    227\u001b[0m         alert_text \u001b[38;5;241m=\u001b[39m value[\u001b[38;5;124m\"\u001b[39m\u001b[38;5;124malert\u001b[39m\u001b[38;5;124m\"\u001b[39m]\u001b[38;5;241m.\u001b[39mget(\u001b[38;5;124m\"\u001b[39m\u001b[38;5;124mtext\u001b[39m\u001b[38;5;124m\"\u001b[39m)\n\u001b[0;32m    228\u001b[0m     \u001b[38;5;28;01mraise\u001b[39;00m exception_class(message, screen, stacktrace, alert_text)  \u001b[38;5;66;03m# type: ignore[call-arg]  # mypy is not smart enough here\u001b[39;00m\n\u001b[1;32m--> 229\u001b[0m \u001b[38;5;28;01mraise\u001b[39;00m exception_class(message, screen, stacktrace)\n",
      "\u001b[1;31mNoSuchElementException\u001b[0m: Message: no such element: Unable to locate element: {\"method\":\"css selector\",\"selector\":\"#gBestWrap > div.best-list > ul > li:nth-child(5) > div.thumb > a > img\"}\n  (Session info: chrome=121.0.6167.185); For documentation on this error, please visit: https://www.selenium.dev/documentation/webdriver/troubleshooting/errors#no-such-element-exception\nStacktrace:\n\tGetHandleVerifier [0x00007FF661FD7012+3522402]\n\t(No symbol) [0x00007FF661BF8352]\n\t(No symbol) [0x00007FF661AA5ABB]\n\t(No symbol) [0x00007FF661AEBF0E]\n\t(No symbol) [0x00007FF661AEC08C]\n\t(No symbol) [0x00007FF661B2E437]\n\t(No symbol) [0x00007FF661B0F09F]\n\t(No symbol) [0x00007FF661B2BDA3]\n\t(No symbol) [0x00007FF661B0EE03]\n\t(No symbol) [0x00007FF661ADF4D4]\n\t(No symbol) [0x00007FF661AE05F1]\n\tGetHandleVerifier [0x00007FF662009B9D+3730157]\n\tGetHandleVerifier [0x00007FF66205F02D+4079485]\n\tGetHandleVerifier [0x00007FF6620575D3+4048163]\n\tGetHandleVerifier [0x00007FF661D2A649+718233]\n\t(No symbol) [0x00007FF661C04A3F]\n\t(No symbol) [0x00007FF661BFFA94]\n\t(No symbol) [0x00007FF661BFFBC2]\n\t(No symbol) [0x00007FF661BEF2E4]\n\tBaseThreadInitThunk [0x00007FFE57187344+20]\n\tRtlUserThreadStart [0x00007FFE574426B1+33]\n"
     ]
    }
   ],
   "source": [
    "# 코드 합치기\n",
    "\n",
    "# 라이브러리 불러오기\n",
    "from selenium import webdriver as wb #통제, 제어\n",
    "from selenium.webdriver.common.keys import Keys \n",
    "from selenium.webdriver.common.by import By # 구분\n",
    "import time # 쉬는 시간\n",
    "# 반복 진행상황을 로딩바로 확인\n",
    "from tqdm import tqdm\n",
    "\n",
    "# g마켓 페이지 열기\n",
    "driver= wb.Chrome()\n",
    "driver.get('http://corners.gmarket.co.kr/Bestsellers')\n",
    "time.sleep(1)\n",
    "\n",
    "# 1. 1위 상품 클릭하여 페이지 이동\n",
    "for i in tqdm(range(10)) :\n",
    "    \n",
    "    best.click()\n",
    "    time.sleep(1)\n",
    "\n",
    "    # 2. 상품명, 가격, 카테고리 데이터 수집\n",
    "    # 상품명, 가격 ,카테고리 정보를 절대적인 위치로 수집하기\n",
    "    title = driver.find_element(By.CSS_SELECTOR, '#itemcase_basic > div.box__item-title > h1').text\n",
    "    price = driver.find_element(By.CSS_SELECTOR, '#itemcase_basic > div.box__item-title > div.price > span:nth-child(2) > strong').text\n",
    "    cate = driver.find_element(By.CSS_SELECTOR, 'body > div.location-navi > ul > li.on > a').text\n",
    "    print(title, price, cate, sep=\"\\n\")\n",
    "\n",
    "\n",
    "\n",
    "\n",
    "\n",
    "    # 뒤로가기\n",
    "    driver.back()\n",
    "    time.sleep(1)\n",
    "    "
   ]
  },
  {
   "cell_type": "code",
   "execution_count": null,
   "metadata": {},
   "outputs": [],
   "source": [
    "# gBestWrap > div.best-list > ul > li:nth-child(6) > div.thumb > a > img\n",
    "# copy selector 를 사용한 코드(중간에 추천 상품이 떠서 추가로 로직을 짜야 함)\n",
    "best = driver.find_element(By.CSS_SELECTOR, f'#gBestWrap > div.best-list > ul > li:nth-child({i+1}) > div.thumb > a > img')"
   ]
  },
  {
   "cell_type": "code",
   "execution_count": null,
   "metadata": {},
   "outputs": [],
   "source": []
  },
  {
   "cell_type": "code",
   "execution_count": null,
   "metadata": {},
   "outputs": [],
   "source": []
  },
  {
   "cell_type": "code",
   "execution_count": null,
   "metadata": {},
   "outputs": [],
   "source": []
  },
  {
   "cell_type": "code",
   "execution_count": null,
   "metadata": {},
   "outputs": [],
   "source": []
  },
  {
   "cell_type": "code",
   "execution_count": null,
   "metadata": {},
   "outputs": [],
   "source": []
  }
 ],
 "metadata": {
  "kernelspec": {
   "display_name": "Python 3 (ipykernel)",
   "language": "python",
   "name": "python3"
  },
  "language_info": {
   "codemirror_mode": {
    "name": "ipython",
    "version": 3
   },
   "file_extension": ".py",
   "mimetype": "text/x-python",
   "name": "python",
   "nbconvert_exporter": "python",
   "pygments_lexer": "ipython3",
   "version": "3.11.5"
  }
 },
 "nbformat": 4,
 "nbformat_minor": 2
}
